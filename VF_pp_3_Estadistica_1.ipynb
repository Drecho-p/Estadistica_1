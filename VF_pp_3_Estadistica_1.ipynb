{
  "nbformat": 4,
  "nbformat_minor": 0,
  "metadata": {
    "colab": {
      "provenance": [],
      "include_colab_link": true
    },
    "kernelspec": {
      "name": "python3",
      "display_name": "Python 3"
    },
    "language_info": {
      "name": "python"
    }
  },
  "cells": [
    {
      "cell_type": "markdown",
      "metadata": {
        "id": "view-in-github",
        "colab_type": "text"
      },
      "source": [
        "<a href=\"https://colab.research.google.com/github/Drecho-p/Estadistica_1/blob/main/VF_pp_3_Estadistica_1.ipynb\" target=\"_parent\"><img src=\"https://colab.research.google.com/assets/colab-badge.svg\" alt=\"Open In Colab\"/></a>"
      ]
    },
    {
      "cell_type": "markdown",
      "source": [
        "# Análisis descriptivo sobre el tiempo de gestacion de un nacido vivo y la talla del recien nacido vivo, al nacer y su correlación.\n",
        "\n",
        "*   Jorge Ivan Ojeda Rangel\n",
        "*   Andrés Javier Sepúlveda Vesga\n",
        "*   Joseph Stiven Pinzón Cuadros\n"
      ],
      "metadata": {
        "id": "TvnvYYuokfrV"
      }
    },
    {
      "cell_type": "markdown",
      "source": [
        "## Resumen\n",
        "\n",
        "En el siguiente informe se realiza un análisis descriptivo sobre el tiempo de gestación de un nacido vivo y la talla de un recien nacido vivo en 2023 al momento de nacer. Tambien se estudia el grado de correlación que estas dos variables presentan segun los datos obtenidos gracias al censo de realizado por el Departamento Administrativo Nacional de Estadísticas (DANE) en el año 2023.\n",
        "\n",
        "Se logro observar que la mayoria de los datos obtenidos en el estudio cumplen tanto que presentaron un tiempo gestacional entre las 28 y 41 semanas y una talla entre los 40 y 59 centimetros. Ademas se obtuvo que los datos presentan una correlación que varía entre lo discreto hasta lo fuerte según el coeficiente que se utilice para realización de su interpretación."
      ],
      "metadata": {
        "id": "Q1eQ01KbmAoV"
      }
    },
    {
      "cell_type": "markdown",
      "source": [
        "## Introducción\n",
        "\n",
        "Las estadísticas vitales de una población son de gran importancia a la hora de analizar las características de una población de país y el la planificación de programas sociales [[1]](https://unstats.un.org/unsd/demographic-social/Standards-and-Methods/files/Principles_and_Recommendations/CRVS/M19Rev3-S.pdf). En particular el análisis de los datos recolectados referentes a los recién nacidos, como lo son el tiempo gestacional y la talla de un recién nacido vivo, son de alta importancia en la neonatología ya que sirven de indicadores de gran importancia para identificar el riesgo de patologías neonatales y determinar la salud de los recién nacidos tanto a nivel individual como colectivo [[2]](https://ri.conicet.gov.ar/handle/11336/217328), [[3]](https://www.msdmanuals.com/es/professional/pediatría/problemas-perinatales/edad-gestacional).\n",
        "\n",
        "El presente trabajo se dispone a estudiar de forma descriptiva el tiempo de gestación y la talla de los recién nacidos en el año 2023. Se pretende buscar un rango de tiempo y de longitud en el cuál la mayoría de los datos registrados durante el censo se encuentren y se pretende realizar un estudio el cuál determine si estos dos conjuntos de datos se encuentran correlacionados."
      ],
      "metadata": {
        "id": "3zGHABZvmHVY"
      }
    },
    {
      "cell_type": "markdown",
      "source": [
        "## Metodología\n",
        "\n",
        "Los datos utilizados en el estudio proceden de la base de datos suministrada por el Departamento Administrativo Nacional de Estadística (DANE) que lleva por nombre \"Estadísticas Vitales - EEVV - 2023\" la cual tiene por universo: Hecho vital, nacido vivo o defunción, ocurrido en el territorio nacional en cada año calendario. En particular se uso el archivo de datos \"BD-EEVV-Nacimientos-2023\"  el cual contiene 515549 registros obtenidos mediante certificados de nacido vivo.\n",
        "\n",
        "De acuerdo con la informacion proporcionada por el DANE la recolección de los datos se dio en un periodo de tiempo que tuvo por inicio el 1 de enero del año 2023 y el cual finalizó el 31 de diciembre del año 2023. Los datos se obtuvieron mediante certificados de nacido vivo el cuál es un certificado antecedente el cuál es expedido por el médico o enfermera que haya asistido al parto y una vez completado es recibido por la Dirección Territorial de Salud y es enviado al DANE. Dado el caso en que no se dispongan de los recursos necesarios se ha autorizado a auxiliares de enfermería y promotores de salud el diligenciamiento del documento [[4]](https://microdatos.dane.gov.co/index.php/catalog/843/).\n",
        "\n",
        "De este archivo se han estudiado particularmente las variables \"T_GES\" y \"TALLA_NAC\". \"T_GES\" es una variable cualitativa la cual representa el tiempo de gestacion del nacido vivo según la siguiente clasificación proporcionada por el DANE: menos de 22 semanas, 22 a 27 semanas, 28 a 37 semanas, 38 a 41 semanas, 42 o mas semanas, ignorado y sin información.\n",
        "\n",
        "Por otro lado la variable \"TALLA_NAC\" es una variable cualitativa la cual representa la talla al nacer de un recién nacido vivo según la siguiente clasificación proporcionada por el DANE: Menos de 20 centímetros, 20 a 29 centímetros, 30 a 39 centímetros, 40 a 49 centímetros, 50 a 59 centímetros, 60 centímetros y más y sin información.\n",
        "\n",
        "Para este estudio no se han considerado aquellos datos los cuales no estuvieran clasificados como \"ignorado\" o \"sin información\" en la variable \"T_GES\" y que no estuvieran clasificado como \"sin información\" en la variable \"TALLA_NAC\". De esta forma se obtuvieron 508049 observaciones válidas para este estudio.\n"
      ],
      "metadata": {
        "id": "9btI5AhYmNo3"
      }
    },
    {
      "cell_type": "markdown",
      "source": [
        "## Resultados e interpretación"
      ],
      "metadata": {
        "id": "FTNSOk7ameyI"
      }
    },
    {
      "cell_type": "code",
      "source": [
        "import pandas as pd\n",
        "import io\n",
        "import matplotlib.pyplot as plt\n",
        "import numpy as np\n",
        "import seaborn as sns\n",
        "import scipy.stats as stats\n",
        "import math"
      ],
      "metadata": {
        "id": "Rohwnlra-pVn"
      },
      "execution_count": null,
      "outputs": []
    },
    {
      "cell_type": "markdown",
      "source": [
        "A continuación se carga el archivo \"BD-EEVV-Nacimientos-2023\".\n",
        "\n"
      ],
      "metadata": {
        "id": "FmR9H5O1v9B8"
      }
    },
    {
      "cell_type": "code",
      "execution_count": null,
      "metadata": {
        "colab": {
          "base_uri": "https://localhost:8080/",
          "height": 73
        },
        "id": "zPjmj7ujyqNW",
        "outputId": "c9ab4070-4df7-4bde-af17-e6c1e8ef2b2b"
      },
      "outputs": [
        {
          "output_type": "display_data",
          "data": {
            "text/plain": [
              "<IPython.core.display.HTML object>"
            ],
            "text/html": [
              "\n",
              "     <input type=\"file\" id=\"files-28546d3f-a870-4c4d-828d-d906013b2c89\" name=\"files[]\" multiple disabled\n",
              "        style=\"border:none\" />\n",
              "     <output id=\"result-28546d3f-a870-4c4d-828d-d906013b2c89\">\n",
              "      Upload widget is only available when the cell has been executed in the\n",
              "      current browser session. Please rerun this cell to enable.\n",
              "      </output>\n",
              "      <script>// Copyright 2017 Google LLC\n",
              "//\n",
              "// Licensed under the Apache License, Version 2.0 (the \"License\");\n",
              "// you may not use this file except in compliance with the License.\n",
              "// You may obtain a copy of the License at\n",
              "//\n",
              "//      http://www.apache.org/licenses/LICENSE-2.0\n",
              "//\n",
              "// Unless required by applicable law or agreed to in writing, software\n",
              "// distributed under the License is distributed on an \"AS IS\" BASIS,\n",
              "// WITHOUT WARRANTIES OR CONDITIONS OF ANY KIND, either express or implied.\n",
              "// See the License for the specific language governing permissions and\n",
              "// limitations under the License.\n",
              "\n",
              "/**\n",
              " * @fileoverview Helpers for google.colab Python module.\n",
              " */\n",
              "(function(scope) {\n",
              "function span(text, styleAttributes = {}) {\n",
              "  const element = document.createElement('span');\n",
              "  element.textContent = text;\n",
              "  for (const key of Object.keys(styleAttributes)) {\n",
              "    element.style[key] = styleAttributes[key];\n",
              "  }\n",
              "  return element;\n",
              "}\n",
              "\n",
              "// Max number of bytes which will be uploaded at a time.\n",
              "const MAX_PAYLOAD_SIZE = 100 * 1024;\n",
              "\n",
              "function _uploadFiles(inputId, outputId) {\n",
              "  const steps = uploadFilesStep(inputId, outputId);\n",
              "  const outputElement = document.getElementById(outputId);\n",
              "  // Cache steps on the outputElement to make it available for the next call\n",
              "  // to uploadFilesContinue from Python.\n",
              "  outputElement.steps = steps;\n",
              "\n",
              "  return _uploadFilesContinue(outputId);\n",
              "}\n",
              "\n",
              "// This is roughly an async generator (not supported in the browser yet),\n",
              "// where there are multiple asynchronous steps and the Python side is going\n",
              "// to poll for completion of each step.\n",
              "// This uses a Promise to block the python side on completion of each step,\n",
              "// then passes the result of the previous step as the input to the next step.\n",
              "function _uploadFilesContinue(outputId) {\n",
              "  const outputElement = document.getElementById(outputId);\n",
              "  const steps = outputElement.steps;\n",
              "\n",
              "  const next = steps.next(outputElement.lastPromiseValue);\n",
              "  return Promise.resolve(next.value.promise).then((value) => {\n",
              "    // Cache the last promise value to make it available to the next\n",
              "    // step of the generator.\n",
              "    outputElement.lastPromiseValue = value;\n",
              "    return next.value.response;\n",
              "  });\n",
              "}\n",
              "\n",
              "/**\n",
              " * Generator function which is called between each async step of the upload\n",
              " * process.\n",
              " * @param {string} inputId Element ID of the input file picker element.\n",
              " * @param {string} outputId Element ID of the output display.\n",
              " * @return {!Iterable<!Object>} Iterable of next steps.\n",
              " */\n",
              "function* uploadFilesStep(inputId, outputId) {\n",
              "  const inputElement = document.getElementById(inputId);\n",
              "  inputElement.disabled = false;\n",
              "\n",
              "  const outputElement = document.getElementById(outputId);\n",
              "  outputElement.innerHTML = '';\n",
              "\n",
              "  const pickedPromise = new Promise((resolve) => {\n",
              "    inputElement.addEventListener('change', (e) => {\n",
              "      resolve(e.target.files);\n",
              "    });\n",
              "  });\n",
              "\n",
              "  const cancel = document.createElement('button');\n",
              "  inputElement.parentElement.appendChild(cancel);\n",
              "  cancel.textContent = 'Cancel upload';\n",
              "  const cancelPromise = new Promise((resolve) => {\n",
              "    cancel.onclick = () => {\n",
              "      resolve(null);\n",
              "    };\n",
              "  });\n",
              "\n",
              "  // Wait for the user to pick the files.\n",
              "  const files = yield {\n",
              "    promise: Promise.race([pickedPromise, cancelPromise]),\n",
              "    response: {\n",
              "      action: 'starting',\n",
              "    }\n",
              "  };\n",
              "\n",
              "  cancel.remove();\n",
              "\n",
              "  // Disable the input element since further picks are not allowed.\n",
              "  inputElement.disabled = true;\n",
              "\n",
              "  if (!files) {\n",
              "    return {\n",
              "      response: {\n",
              "        action: 'complete',\n",
              "      }\n",
              "    };\n",
              "  }\n",
              "\n",
              "  for (const file of files) {\n",
              "    const li = document.createElement('li');\n",
              "    li.append(span(file.name, {fontWeight: 'bold'}));\n",
              "    li.append(span(\n",
              "        `(${file.type || 'n/a'}) - ${file.size} bytes, ` +\n",
              "        `last modified: ${\n",
              "            file.lastModifiedDate ? file.lastModifiedDate.toLocaleDateString() :\n",
              "                                    'n/a'} - `));\n",
              "    const percent = span('0% done');\n",
              "    li.appendChild(percent);\n",
              "\n",
              "    outputElement.appendChild(li);\n",
              "\n",
              "    const fileDataPromise = new Promise((resolve) => {\n",
              "      const reader = new FileReader();\n",
              "      reader.onload = (e) => {\n",
              "        resolve(e.target.result);\n",
              "      };\n",
              "      reader.readAsArrayBuffer(file);\n",
              "    });\n",
              "    // Wait for the data to be ready.\n",
              "    let fileData = yield {\n",
              "      promise: fileDataPromise,\n",
              "      response: {\n",
              "        action: 'continue',\n",
              "      }\n",
              "    };\n",
              "\n",
              "    // Use a chunked sending to avoid message size limits. See b/62115660.\n",
              "    let position = 0;\n",
              "    do {\n",
              "      const length = Math.min(fileData.byteLength - position, MAX_PAYLOAD_SIZE);\n",
              "      const chunk = new Uint8Array(fileData, position, length);\n",
              "      position += length;\n",
              "\n",
              "      const base64 = btoa(String.fromCharCode.apply(null, chunk));\n",
              "      yield {\n",
              "        response: {\n",
              "          action: 'append',\n",
              "          file: file.name,\n",
              "          data: base64,\n",
              "        },\n",
              "      };\n",
              "\n",
              "      let percentDone = fileData.byteLength === 0 ?\n",
              "          100 :\n",
              "          Math.round((position / fileData.byteLength) * 100);\n",
              "      percent.textContent = `${percentDone}% done`;\n",
              "\n",
              "    } while (position < fileData.byteLength);\n",
              "  }\n",
              "\n",
              "  // All done.\n",
              "  yield {\n",
              "    response: {\n",
              "      action: 'complete',\n",
              "    }\n",
              "  };\n",
              "}\n",
              "\n",
              "scope.google = scope.google || {};\n",
              "scope.google.colab = scope.google.colab || {};\n",
              "scope.google.colab._files = {\n",
              "  _uploadFiles,\n",
              "  _uploadFilesContinue,\n",
              "};\n",
              "})(self);\n",
              "</script> "
            ]
          },
          "metadata": {}
        },
        {
          "output_type": "stream",
          "name": "stdout",
          "text": [
            "Saving BD-EEVV-Nacimientos-2023.csv to BD-EEVV-Nacimientos-2023.csv\n"
          ]
        }
      ],
      "source": [
        "from google.colab import files # Para cargar archivos en google colab\n",
        "uploaded = files.upload()"
      ]
    },
    {
      "cell_type": "code",
      "source": [
        "io_csv = io.BytesIO(uploaded['BD-EEVV-Nacimientos-2023.csv'])\n",
        "tabla = pd.read_csv(io_csv, sep = \",\",index_col=0, encoding='latin-1')\n",
        "tabla1 = tabla[['T_GES', 'TALLA_NAC']]\n",
        "tabla1.head(4)\n"
      ],
      "metadata": {
        "colab": {
          "base_uri": "https://localhost:8080/",
          "height": 206
        },
        "id": "QHqTMAK8_sHp",
        "outputId": "42bfa7cb-e835-406a-a14e-c528911c5c44"
      },
      "execution_count": null,
      "outputs": [
        {
          "output_type": "execute_result",
          "data": {
            "text/plain": [
              "          T_GES  TALLA_NAC\n",
              "COD_DPTO                  \n",
              "23            4          5\n",
              "11            4          4\n",
              "11            4          4\n",
              "11            4          5"
            ],
            "text/html": [
              "\n",
              "  <div id=\"df-fed6d65f-a002-451a-a832-263182f4a098\" class=\"colab-df-container\">\n",
              "    <div>\n",
              "<style scoped>\n",
              "    .dataframe tbody tr th:only-of-type {\n",
              "        vertical-align: middle;\n",
              "    }\n",
              "\n",
              "    .dataframe tbody tr th {\n",
              "        vertical-align: top;\n",
              "    }\n",
              "\n",
              "    .dataframe thead th {\n",
              "        text-align: right;\n",
              "    }\n",
              "</style>\n",
              "<table border=\"1\" class=\"dataframe\">\n",
              "  <thead>\n",
              "    <tr style=\"text-align: right;\">\n",
              "      <th></th>\n",
              "      <th>T_GES</th>\n",
              "      <th>TALLA_NAC</th>\n",
              "    </tr>\n",
              "    <tr>\n",
              "      <th>COD_DPTO</th>\n",
              "      <th></th>\n",
              "      <th></th>\n",
              "    </tr>\n",
              "  </thead>\n",
              "  <tbody>\n",
              "    <tr>\n",
              "      <th>23</th>\n",
              "      <td>4</td>\n",
              "      <td>5</td>\n",
              "    </tr>\n",
              "    <tr>\n",
              "      <th>11</th>\n",
              "      <td>4</td>\n",
              "      <td>4</td>\n",
              "    </tr>\n",
              "    <tr>\n",
              "      <th>11</th>\n",
              "      <td>4</td>\n",
              "      <td>4</td>\n",
              "    </tr>\n",
              "    <tr>\n",
              "      <th>11</th>\n",
              "      <td>4</td>\n",
              "      <td>5</td>\n",
              "    </tr>\n",
              "  </tbody>\n",
              "</table>\n",
              "</div>\n",
              "    <div class=\"colab-df-buttons\">\n",
              "\n",
              "  <div class=\"colab-df-container\">\n",
              "    <button class=\"colab-df-convert\" onclick=\"convertToInteractive('df-fed6d65f-a002-451a-a832-263182f4a098')\"\n",
              "            title=\"Convert this dataframe to an interactive table.\"\n",
              "            style=\"display:none;\">\n",
              "\n",
              "  <svg xmlns=\"http://www.w3.org/2000/svg\" height=\"24px\" viewBox=\"0 -960 960 960\">\n",
              "    <path d=\"M120-120v-720h720v720H120Zm60-500h600v-160H180v160Zm220 220h160v-160H400v160Zm0 220h160v-160H400v160ZM180-400h160v-160H180v160Zm440 0h160v-160H620v160ZM180-180h160v-160H180v160Zm440 0h160v-160H620v160Z\"/>\n",
              "  </svg>\n",
              "    </button>\n",
              "\n",
              "  <style>\n",
              "    .colab-df-container {\n",
              "      display:flex;\n",
              "      gap: 12px;\n",
              "    }\n",
              "\n",
              "    .colab-df-convert {\n",
              "      background-color: #E8F0FE;\n",
              "      border: none;\n",
              "      border-radius: 50%;\n",
              "      cursor: pointer;\n",
              "      display: none;\n",
              "      fill: #1967D2;\n",
              "      height: 32px;\n",
              "      padding: 0 0 0 0;\n",
              "      width: 32px;\n",
              "    }\n",
              "\n",
              "    .colab-df-convert:hover {\n",
              "      background-color: #E2EBFA;\n",
              "      box-shadow: 0px 1px 2px rgba(60, 64, 67, 0.3), 0px 1px 3px 1px rgba(60, 64, 67, 0.15);\n",
              "      fill: #174EA6;\n",
              "    }\n",
              "\n",
              "    .colab-df-buttons div {\n",
              "      margin-bottom: 4px;\n",
              "    }\n",
              "\n",
              "    [theme=dark] .colab-df-convert {\n",
              "      background-color: #3B4455;\n",
              "      fill: #D2E3FC;\n",
              "    }\n",
              "\n",
              "    [theme=dark] .colab-df-convert:hover {\n",
              "      background-color: #434B5C;\n",
              "      box-shadow: 0px 1px 3px 1px rgba(0, 0, 0, 0.15);\n",
              "      filter: drop-shadow(0px 1px 2px rgba(0, 0, 0, 0.3));\n",
              "      fill: #FFFFFF;\n",
              "    }\n",
              "  </style>\n",
              "\n",
              "    <script>\n",
              "      const buttonEl =\n",
              "        document.querySelector('#df-fed6d65f-a002-451a-a832-263182f4a098 button.colab-df-convert');\n",
              "      buttonEl.style.display =\n",
              "        google.colab.kernel.accessAllowed ? 'block' : 'none';\n",
              "\n",
              "      async function convertToInteractive(key) {\n",
              "        const element = document.querySelector('#df-fed6d65f-a002-451a-a832-263182f4a098');\n",
              "        const dataTable =\n",
              "          await google.colab.kernel.invokeFunction('convertToInteractive',\n",
              "                                                    [key], {});\n",
              "        if (!dataTable) return;\n",
              "\n",
              "        const docLinkHtml = 'Like what you see? Visit the ' +\n",
              "          '<a target=\"_blank\" href=https://colab.research.google.com/notebooks/data_table.ipynb>data table notebook</a>'\n",
              "          + ' to learn more about interactive tables.';\n",
              "        element.innerHTML = '';\n",
              "        dataTable['output_type'] = 'display_data';\n",
              "        await google.colab.output.renderOutput(dataTable, element);\n",
              "        const docLink = document.createElement('div');\n",
              "        docLink.innerHTML = docLinkHtml;\n",
              "        element.appendChild(docLink);\n",
              "      }\n",
              "    </script>\n",
              "  </div>\n",
              "\n",
              "\n",
              "    <div id=\"df-bf8a2798-89ed-48c6-881c-e47242527c19\">\n",
              "      <button class=\"colab-df-quickchart\" onclick=\"quickchart('df-bf8a2798-89ed-48c6-881c-e47242527c19')\"\n",
              "                title=\"Suggest charts\"\n",
              "                style=\"display:none;\">\n",
              "\n",
              "<svg xmlns=\"http://www.w3.org/2000/svg\" height=\"24px\"viewBox=\"0 0 24 24\"\n",
              "     width=\"24px\">\n",
              "    <g>\n",
              "        <path d=\"M19 3H5c-1.1 0-2 .9-2 2v14c0 1.1.9 2 2 2h14c1.1 0 2-.9 2-2V5c0-1.1-.9-2-2-2zM9 17H7v-7h2v7zm4 0h-2V7h2v10zm4 0h-2v-4h2v4z\"/>\n",
              "    </g>\n",
              "</svg>\n",
              "      </button>\n",
              "\n",
              "<style>\n",
              "  .colab-df-quickchart {\n",
              "      --bg-color: #E8F0FE;\n",
              "      --fill-color: #1967D2;\n",
              "      --hover-bg-color: #E2EBFA;\n",
              "      --hover-fill-color: #174EA6;\n",
              "      --disabled-fill-color: #AAA;\n",
              "      --disabled-bg-color: #DDD;\n",
              "  }\n",
              "\n",
              "  [theme=dark] .colab-df-quickchart {\n",
              "      --bg-color: #3B4455;\n",
              "      --fill-color: #D2E3FC;\n",
              "      --hover-bg-color: #434B5C;\n",
              "      --hover-fill-color: #FFFFFF;\n",
              "      --disabled-bg-color: #3B4455;\n",
              "      --disabled-fill-color: #666;\n",
              "  }\n",
              "\n",
              "  .colab-df-quickchart {\n",
              "    background-color: var(--bg-color);\n",
              "    border: none;\n",
              "    border-radius: 50%;\n",
              "    cursor: pointer;\n",
              "    display: none;\n",
              "    fill: var(--fill-color);\n",
              "    height: 32px;\n",
              "    padding: 0;\n",
              "    width: 32px;\n",
              "  }\n",
              "\n",
              "  .colab-df-quickchart:hover {\n",
              "    background-color: var(--hover-bg-color);\n",
              "    box-shadow: 0 1px 2px rgba(60, 64, 67, 0.3), 0 1px 3px 1px rgba(60, 64, 67, 0.15);\n",
              "    fill: var(--button-hover-fill-color);\n",
              "  }\n",
              "\n",
              "  .colab-df-quickchart-complete:disabled,\n",
              "  .colab-df-quickchart-complete:disabled:hover {\n",
              "    background-color: var(--disabled-bg-color);\n",
              "    fill: var(--disabled-fill-color);\n",
              "    box-shadow: none;\n",
              "  }\n",
              "\n",
              "  .colab-df-spinner {\n",
              "    border: 2px solid var(--fill-color);\n",
              "    border-color: transparent;\n",
              "    border-bottom-color: var(--fill-color);\n",
              "    animation:\n",
              "      spin 1s steps(1) infinite;\n",
              "  }\n",
              "\n",
              "  @keyframes spin {\n",
              "    0% {\n",
              "      border-color: transparent;\n",
              "      border-bottom-color: var(--fill-color);\n",
              "      border-left-color: var(--fill-color);\n",
              "    }\n",
              "    20% {\n",
              "      border-color: transparent;\n",
              "      border-left-color: var(--fill-color);\n",
              "      border-top-color: var(--fill-color);\n",
              "    }\n",
              "    30% {\n",
              "      border-color: transparent;\n",
              "      border-left-color: var(--fill-color);\n",
              "      border-top-color: var(--fill-color);\n",
              "      border-right-color: var(--fill-color);\n",
              "    }\n",
              "    40% {\n",
              "      border-color: transparent;\n",
              "      border-right-color: var(--fill-color);\n",
              "      border-top-color: var(--fill-color);\n",
              "    }\n",
              "    60% {\n",
              "      border-color: transparent;\n",
              "      border-right-color: var(--fill-color);\n",
              "    }\n",
              "    80% {\n",
              "      border-color: transparent;\n",
              "      border-right-color: var(--fill-color);\n",
              "      border-bottom-color: var(--fill-color);\n",
              "    }\n",
              "    90% {\n",
              "      border-color: transparent;\n",
              "      border-bottom-color: var(--fill-color);\n",
              "    }\n",
              "  }\n",
              "</style>\n",
              "\n",
              "      <script>\n",
              "        async function quickchart(key) {\n",
              "          const quickchartButtonEl =\n",
              "            document.querySelector('#' + key + ' button');\n",
              "          quickchartButtonEl.disabled = true;  // To prevent multiple clicks.\n",
              "          quickchartButtonEl.classList.add('colab-df-spinner');\n",
              "          try {\n",
              "            const charts = await google.colab.kernel.invokeFunction(\n",
              "                'suggestCharts', [key], {});\n",
              "          } catch (error) {\n",
              "            console.error('Error during call to suggestCharts:', error);\n",
              "          }\n",
              "          quickchartButtonEl.classList.remove('colab-df-spinner');\n",
              "          quickchartButtonEl.classList.add('colab-df-quickchart-complete');\n",
              "        }\n",
              "        (() => {\n",
              "          let quickchartButtonEl =\n",
              "            document.querySelector('#df-bf8a2798-89ed-48c6-881c-e47242527c19 button');\n",
              "          quickchartButtonEl.style.display =\n",
              "            google.colab.kernel.accessAllowed ? 'block' : 'none';\n",
              "        })();\n",
              "      </script>\n",
              "    </div>\n",
              "\n",
              "    </div>\n",
              "  </div>\n"
            ],
            "application/vnd.google.colaboratory.intrinsic+json": {
              "type": "dataframe",
              "variable_name": "tabla1"
            }
          },
          "metadata": {},
          "execution_count": 21
        }
      ]
    },
    {
      "cell_type": "markdown",
      "source": [
        "Al filtrar los datos obtenidos de forma que se obtengan resultados validos en las variables \"T_GES\" y \"TALLA_NAC\" se obtiene la siguiente tabla:"
      ],
      "metadata": {
        "id": "iusz_km6wUJ_"
      }
    },
    {
      "cell_type": "code",
      "source": [
        "df1 = tabla1[(tabla1.T_GES < 6) & (tabla1.TALLA_NAC < 9)]\n",
        "df1.T_GES = df1.T_GES.astype(str)\n",
        "df1.TALLA_NAC = df1.TALLA_NAC.astype(str)\n",
        "df1.head(4)"
      ],
      "metadata": {
        "colab": {
          "base_uri": "https://localhost:8080/",
          "height": 414
        },
        "id": "4VrzFd2VjNrF",
        "outputId": "f47754c6-73c4-4ac6-8cc7-25f499c171a1"
      },
      "execution_count": null,
      "outputs": [
        {
          "output_type": "stream",
          "name": "stderr",
          "text": [
            "<ipython-input-74-56f9c5e8aa2d>:2: SettingWithCopyWarning: \n",
            "A value is trying to be set on a copy of a slice from a DataFrame.\n",
            "Try using .loc[row_indexer,col_indexer] = value instead\n",
            "\n",
            "See the caveats in the documentation: https://pandas.pydata.org/pandas-docs/stable/user_guide/indexing.html#returning-a-view-versus-a-copy\n",
            "  df1.T_GES = df1.T_GES.astype(str)\n",
            "<ipython-input-74-56f9c5e8aa2d>:3: SettingWithCopyWarning: \n",
            "A value is trying to be set on a copy of a slice from a DataFrame.\n",
            "Try using .loc[row_indexer,col_indexer] = value instead\n",
            "\n",
            "See the caveats in the documentation: https://pandas.pydata.org/pandas-docs/stable/user_guide/indexing.html#returning-a-view-versus-a-copy\n",
            "  df1.TALLA_NAC = df1.TALLA_NAC.astype(str)\n"
          ]
        },
        {
          "output_type": "execute_result",
          "data": {
            "text/plain": [
              "         T_GES TALLA_NAC\n",
              "COD_DPTO                \n",
              "23           4         5\n",
              "11           4         4\n",
              "11           4         4\n",
              "11           4         5"
            ],
            "text/html": [
              "\n",
              "  <div id=\"df-447a7a40-4ae2-4998-9558-d829c2f431fd\" class=\"colab-df-container\">\n",
              "    <div>\n",
              "<style scoped>\n",
              "    .dataframe tbody tr th:only-of-type {\n",
              "        vertical-align: middle;\n",
              "    }\n",
              "\n",
              "    .dataframe tbody tr th {\n",
              "        vertical-align: top;\n",
              "    }\n",
              "\n",
              "    .dataframe thead th {\n",
              "        text-align: right;\n",
              "    }\n",
              "</style>\n",
              "<table border=\"1\" class=\"dataframe\">\n",
              "  <thead>\n",
              "    <tr style=\"text-align: right;\">\n",
              "      <th></th>\n",
              "      <th>T_GES</th>\n",
              "      <th>TALLA_NAC</th>\n",
              "    </tr>\n",
              "    <tr>\n",
              "      <th>COD_DPTO</th>\n",
              "      <th></th>\n",
              "      <th></th>\n",
              "    </tr>\n",
              "  </thead>\n",
              "  <tbody>\n",
              "    <tr>\n",
              "      <th>23</th>\n",
              "      <td>4</td>\n",
              "      <td>5</td>\n",
              "    </tr>\n",
              "    <tr>\n",
              "      <th>11</th>\n",
              "      <td>4</td>\n",
              "      <td>4</td>\n",
              "    </tr>\n",
              "    <tr>\n",
              "      <th>11</th>\n",
              "      <td>4</td>\n",
              "      <td>4</td>\n",
              "    </tr>\n",
              "    <tr>\n",
              "      <th>11</th>\n",
              "      <td>4</td>\n",
              "      <td>5</td>\n",
              "    </tr>\n",
              "  </tbody>\n",
              "</table>\n",
              "</div>\n",
              "    <div class=\"colab-df-buttons\">\n",
              "\n",
              "  <div class=\"colab-df-container\">\n",
              "    <button class=\"colab-df-convert\" onclick=\"convertToInteractive('df-447a7a40-4ae2-4998-9558-d829c2f431fd')\"\n",
              "            title=\"Convert this dataframe to an interactive table.\"\n",
              "            style=\"display:none;\">\n",
              "\n",
              "  <svg xmlns=\"http://www.w3.org/2000/svg\" height=\"24px\" viewBox=\"0 -960 960 960\">\n",
              "    <path d=\"M120-120v-720h720v720H120Zm60-500h600v-160H180v160Zm220 220h160v-160H400v160Zm0 220h160v-160H400v160ZM180-400h160v-160H180v160Zm440 0h160v-160H620v160ZM180-180h160v-160H180v160Zm440 0h160v-160H620v160Z\"/>\n",
              "  </svg>\n",
              "    </button>\n",
              "\n",
              "  <style>\n",
              "    .colab-df-container {\n",
              "      display:flex;\n",
              "      gap: 12px;\n",
              "    }\n",
              "\n",
              "    .colab-df-convert {\n",
              "      background-color: #E8F0FE;\n",
              "      border: none;\n",
              "      border-radius: 50%;\n",
              "      cursor: pointer;\n",
              "      display: none;\n",
              "      fill: #1967D2;\n",
              "      height: 32px;\n",
              "      padding: 0 0 0 0;\n",
              "      width: 32px;\n",
              "    }\n",
              "\n",
              "    .colab-df-convert:hover {\n",
              "      background-color: #E2EBFA;\n",
              "      box-shadow: 0px 1px 2px rgba(60, 64, 67, 0.3), 0px 1px 3px 1px rgba(60, 64, 67, 0.15);\n",
              "      fill: #174EA6;\n",
              "    }\n",
              "\n",
              "    .colab-df-buttons div {\n",
              "      margin-bottom: 4px;\n",
              "    }\n",
              "\n",
              "    [theme=dark] .colab-df-convert {\n",
              "      background-color: #3B4455;\n",
              "      fill: #D2E3FC;\n",
              "    }\n",
              "\n",
              "    [theme=dark] .colab-df-convert:hover {\n",
              "      background-color: #434B5C;\n",
              "      box-shadow: 0px 1px 3px 1px rgba(0, 0, 0, 0.15);\n",
              "      filter: drop-shadow(0px 1px 2px rgba(0, 0, 0, 0.3));\n",
              "      fill: #FFFFFF;\n",
              "    }\n",
              "  </style>\n",
              "\n",
              "    <script>\n",
              "      const buttonEl =\n",
              "        document.querySelector('#df-447a7a40-4ae2-4998-9558-d829c2f431fd button.colab-df-convert');\n",
              "      buttonEl.style.display =\n",
              "        google.colab.kernel.accessAllowed ? 'block' : 'none';\n",
              "\n",
              "      async function convertToInteractive(key) {\n",
              "        const element = document.querySelector('#df-447a7a40-4ae2-4998-9558-d829c2f431fd');\n",
              "        const dataTable =\n",
              "          await google.colab.kernel.invokeFunction('convertToInteractive',\n",
              "                                                    [key], {});\n",
              "        if (!dataTable) return;\n",
              "\n",
              "        const docLinkHtml = 'Like what you see? Visit the ' +\n",
              "          '<a target=\"_blank\" href=https://colab.research.google.com/notebooks/data_table.ipynb>data table notebook</a>'\n",
              "          + ' to learn more about interactive tables.';\n",
              "        element.innerHTML = '';\n",
              "        dataTable['output_type'] = 'display_data';\n",
              "        await google.colab.output.renderOutput(dataTable, element);\n",
              "        const docLink = document.createElement('div');\n",
              "        docLink.innerHTML = docLinkHtml;\n",
              "        element.appendChild(docLink);\n",
              "      }\n",
              "    </script>\n",
              "  </div>\n",
              "\n",
              "\n",
              "    <div id=\"df-423e4b64-3bed-4056-b012-69fff4ee59cf\">\n",
              "      <button class=\"colab-df-quickchart\" onclick=\"quickchart('df-423e4b64-3bed-4056-b012-69fff4ee59cf')\"\n",
              "                title=\"Suggest charts\"\n",
              "                style=\"display:none;\">\n",
              "\n",
              "<svg xmlns=\"http://www.w3.org/2000/svg\" height=\"24px\"viewBox=\"0 0 24 24\"\n",
              "     width=\"24px\">\n",
              "    <g>\n",
              "        <path d=\"M19 3H5c-1.1 0-2 .9-2 2v14c0 1.1.9 2 2 2h14c1.1 0 2-.9 2-2V5c0-1.1-.9-2-2-2zM9 17H7v-7h2v7zm4 0h-2V7h2v10zm4 0h-2v-4h2v4z\"/>\n",
              "    </g>\n",
              "</svg>\n",
              "      </button>\n",
              "\n",
              "<style>\n",
              "  .colab-df-quickchart {\n",
              "      --bg-color: #E8F0FE;\n",
              "      --fill-color: #1967D2;\n",
              "      --hover-bg-color: #E2EBFA;\n",
              "      --hover-fill-color: #174EA6;\n",
              "      --disabled-fill-color: #AAA;\n",
              "      --disabled-bg-color: #DDD;\n",
              "  }\n",
              "\n",
              "  [theme=dark] .colab-df-quickchart {\n",
              "      --bg-color: #3B4455;\n",
              "      --fill-color: #D2E3FC;\n",
              "      --hover-bg-color: #434B5C;\n",
              "      --hover-fill-color: #FFFFFF;\n",
              "      --disabled-bg-color: #3B4455;\n",
              "      --disabled-fill-color: #666;\n",
              "  }\n",
              "\n",
              "  .colab-df-quickchart {\n",
              "    background-color: var(--bg-color);\n",
              "    border: none;\n",
              "    border-radius: 50%;\n",
              "    cursor: pointer;\n",
              "    display: none;\n",
              "    fill: var(--fill-color);\n",
              "    height: 32px;\n",
              "    padding: 0;\n",
              "    width: 32px;\n",
              "  }\n",
              "\n",
              "  .colab-df-quickchart:hover {\n",
              "    background-color: var(--hover-bg-color);\n",
              "    box-shadow: 0 1px 2px rgba(60, 64, 67, 0.3), 0 1px 3px 1px rgba(60, 64, 67, 0.15);\n",
              "    fill: var(--button-hover-fill-color);\n",
              "  }\n",
              "\n",
              "  .colab-df-quickchart-complete:disabled,\n",
              "  .colab-df-quickchart-complete:disabled:hover {\n",
              "    background-color: var(--disabled-bg-color);\n",
              "    fill: var(--disabled-fill-color);\n",
              "    box-shadow: none;\n",
              "  }\n",
              "\n",
              "  .colab-df-spinner {\n",
              "    border: 2px solid var(--fill-color);\n",
              "    border-color: transparent;\n",
              "    border-bottom-color: var(--fill-color);\n",
              "    animation:\n",
              "      spin 1s steps(1) infinite;\n",
              "  }\n",
              "\n",
              "  @keyframes spin {\n",
              "    0% {\n",
              "      border-color: transparent;\n",
              "      border-bottom-color: var(--fill-color);\n",
              "      border-left-color: var(--fill-color);\n",
              "    }\n",
              "    20% {\n",
              "      border-color: transparent;\n",
              "      border-left-color: var(--fill-color);\n",
              "      border-top-color: var(--fill-color);\n",
              "    }\n",
              "    30% {\n",
              "      border-color: transparent;\n",
              "      border-left-color: var(--fill-color);\n",
              "      border-top-color: var(--fill-color);\n",
              "      border-right-color: var(--fill-color);\n",
              "    }\n",
              "    40% {\n",
              "      border-color: transparent;\n",
              "      border-right-color: var(--fill-color);\n",
              "      border-top-color: var(--fill-color);\n",
              "    }\n",
              "    60% {\n",
              "      border-color: transparent;\n",
              "      border-right-color: var(--fill-color);\n",
              "    }\n",
              "    80% {\n",
              "      border-color: transparent;\n",
              "      border-right-color: var(--fill-color);\n",
              "      border-bottom-color: var(--fill-color);\n",
              "    }\n",
              "    90% {\n",
              "      border-color: transparent;\n",
              "      border-bottom-color: var(--fill-color);\n",
              "    }\n",
              "  }\n",
              "</style>\n",
              "\n",
              "      <script>\n",
              "        async function quickchart(key) {\n",
              "          const quickchartButtonEl =\n",
              "            document.querySelector('#' + key + ' button');\n",
              "          quickchartButtonEl.disabled = true;  // To prevent multiple clicks.\n",
              "          quickchartButtonEl.classList.add('colab-df-spinner');\n",
              "          try {\n",
              "            const charts = await google.colab.kernel.invokeFunction(\n",
              "                'suggestCharts', [key], {});\n",
              "          } catch (error) {\n",
              "            console.error('Error during call to suggestCharts:', error);\n",
              "          }\n",
              "          quickchartButtonEl.classList.remove('colab-df-spinner');\n",
              "          quickchartButtonEl.classList.add('colab-df-quickchart-complete');\n",
              "        }\n",
              "        (() => {\n",
              "          let quickchartButtonEl =\n",
              "            document.querySelector('#df-423e4b64-3bed-4056-b012-69fff4ee59cf button');\n",
              "          quickchartButtonEl.style.display =\n",
              "            google.colab.kernel.accessAllowed ? 'block' : 'none';\n",
              "        })();\n",
              "      </script>\n",
              "    </div>\n",
              "\n",
              "    </div>\n",
              "  </div>\n"
            ],
            "application/vnd.google.colaboratory.intrinsic+json": {
              "type": "dataframe",
              "variable_name": "df1"
            }
          },
          "metadata": {},
          "execution_count": 74
        }
      ]
    },
    {
      "cell_type": "markdown",
      "source": [
        "A continuación se procede a clasificar las variables segun la informacion proporcionada por el DANE."
      ],
      "metadata": {
        "id": "SX30feosw8cT"
      }
    },
    {
      "cell_type": "code",
      "source": [
        "df1.loc[(df1.T_GES == '1'), \"T_GES\"] = \"Menor a 22\"\n",
        "df1.loc[(df1.T_GES == '2'), \"T_GES\"] = \"22-27\"\n",
        "df1.loc[(df1.T_GES == '3'), \"T_GES\"] = \"28-37\"\n",
        "df1.loc[(df1.T_GES == '4'), \"T_GES\"] = \"38-41\"\n",
        "df1.loc[(df1.T_GES == '5'), \"T_GES\"] = \"42 o más\"\n",
        "df1.loc[(df1.T_GES == '6'), \"T_GES\"] = \"Ignorado\"\n",
        "\n",
        "df1.loc[(df1.TALLA_NAC == '1'), \"TALLA_NAC\"] = \"Menor a 20\"\n",
        "df1.loc[(df1.TALLA_NAC == '2'), \"TALLA_NAC\"] = \"20-29\"\n",
        "df1.loc[(df1.TALLA_NAC == '3'), \"TALLA_NAC\"] = \"30-39\"\n",
        "df1.loc[(df1.TALLA_NAC == '4'), \"TALLA_NAC\"] = \"40-49\"\n",
        "df1.loc[(df1.TALLA_NAC == '5'), \"TALLA_NAC\"] = \"50-59\"\n",
        "df1.loc[(df1.TALLA_NAC == '6'), \"TALLA_NAC\"] = \"60 o mayor\""
      ],
      "metadata": {
        "id": "8rhhbuWsyO3V"
      },
      "execution_count": null,
      "outputs": []
    },
    {
      "cell_type": "markdown",
      "source": [
        "Ya con los valores filtrados y clasificados se procede a graficar el diagrama de barras de la variable \"T_GES\"."
      ],
      "metadata": {
        "id": "qZLHR0a2xNV_"
      }
    },
    {
      "cell_type": "code",
      "source": [
        "x_values = df1.T_GES.unique()\n",
        "y_values = df1.T_GES.value_counts().tolist()\n",
        "plt.bar(x_values, y_values, color = 'green')\n",
        "plt.title(\"Tiempo gestacional de un recien nacido en Colombia en 2023\")\n",
        "ax = plt.subplot()\n",
        "plt.xlabel(\"Tiempo gestacional (semanas)\")\n",
        "plt.ylabel(\"Frecuencia\")\n",
        "plt.show()"
      ],
      "metadata": {
        "colab": {
          "base_uri": "https://localhost:8080/",
          "height": 480
        },
        "id": "eJQzEbOXilZy",
        "outputId": "5b3dea2a-ae25-4768-8ecf-ef1a735ec6bb"
      },
      "execution_count": null,
      "outputs": [
        {
          "output_type": "display_data",
          "data": {
            "text/plain": [
              "<Figure size 640x480 with 1 Axes>"
            ],
            "image/png": "[encoded data removed]"
          },
          "metadata": {}
        }
      ]
    },
    {
      "cell_type": "markdown",
      "source": [
        "A partir del grafico de barras se puede observar que la mayoria de los tiempos de gestacion reportados entran dentro de la categoria de 28 a 41 semanas con mas 350000 observaciones y de la categoria de 28 a 37 semanas con aprixamdamente 150000 observaciones.\n",
        "\n",
        "Luego se grafica el diagrama circular de la variable \"T_GES\" y se calculan los porcentajes"
      ],
      "metadata": {
        "id": "RbP85csVyOBu"
      }
    },
    {
      "cell_type": "code",
      "source": [
        "plt.pie(y_values, labels = x_values, autopct='%1.1f%%')\n",
        "plt.title(\"Tiempo gestacional de un recien nacido en Colombia en 2023 (semanas)\")\n",
        "plt.show()"
      ],
      "metadata": {
        "colab": {
          "base_uri": "https://localhost:8080/",
          "height": 428
        },
        "id": "5spmjkgJ4Z2M",
        "outputId": "e9ea69c1-ffa6-4bad-9c31-58ebb78fd750"
      },
      "execution_count": null,
      "outputs": [
        {
          "output_type": "display_data",
          "data": {
            "text/plain": [
              "<Figure size 640x480 with 1 Axes>"
            ],
            "image/png": "[encoded data removed]"
          },
          "metadata": {}
        }
      ]
    },
    {
      "cell_type": "code",
      "source": [
        "porcentaje = [(x/len(df1.T_GES)*100) for x in y_values]\n",
        "print(y_values)\n",
        "print(porcentaje)"
      ],
      "metadata": {
        "colab": {
          "base_uri": "https://localhost:8080/"
        },
        "id": "vM0OoKp75uns",
        "outputId": "04109ba9-76f8-4c9f-c447-3b30134a2e5d"
      },
      "execution_count": null,
      "outputs": [
        {
          "output_type": "stream",
          "name": "stdout",
          "text": [
            "[371090, 134513, 1950, 477, 19]\n",
            "[73.04216719253458, 26.476383183511825, 0.38382124558851605, 0.09388858161319086, 0.0037397967518881053]\n"
          ]
        }
      ]
    },
    {
      "cell_type": "markdown",
      "source": [
        "A partir de la gráfica y los calculos realizados se puede ver que aproximadamente el 73% de los embarazos tuvieron un tiempo de gestación promedio de 38 a 41 semanas, el 26.5% de 28 a 37 semanas, el 0.4% de 42 o más semanas, el 0.1% de 22 a 27 semanas y el 0.004% de menos de 22 semanas. Al comparar los resultados obtenidos en el estudio con los reportados por el DANE en su boletín técnico sobre las estadisticas vitales en donde se informa que en los años 2019, 2020, 2021, 2022 y 2023 el porcentaje de datos que reportan un tiempo de gestacion entre 37 y 41 semanas son: 89.5%, 88.9%, 88.0%, 88.0% y 88.4 % respectivamente [[5]](https://www.dane.gov.co/files/operaciones/EEVV/bol-EEVV-Nacimientos-IVtrim2023.pdf) se puede apreciar una diferencia notoria entre los porcentajes, lo cual indica una cantidad notoria de personas con un tiempo de gestacion entre 37 a 38 semanas."
      ],
      "metadata": {
        "id": "07UlvMWCyorT"
      }
    },
    {
      "cell_type": "markdown",
      "source": [
        "Ahora, se procede a graficar el diagrama de barras de la variable \"TALLA_NAC\"."
      ],
      "metadata": {
        "id": "2JxOItyG1YvU"
      }
    },
    {
      "cell_type": "code",
      "source": [
        "x_values = df1.TALLA_NAC.unique()\n",
        "y_values = df1.TALLA_NAC.value_counts().tolist()\n",
        "plt.bar(x_values, y_values, color = 'green')\n",
        "plt.title(\"Talla de un recien nacido en Colombia en 2023\")\n",
        "ax = plt.subplot()\n",
        "plt.xlabel(\"Longitud (cm)\")\n",
        "plt.ylabel(\"Frecuencia\")\n",
        "plt.show()"
      ],
      "metadata": {
        "colab": {
          "base_uri": "https://localhost:8080/",
          "height": 480
        },
        "id": "BkHFWErRiz4U",
        "outputId": "c5092430-3b4b-4f20-c031-2ce5899fd174"
      },
      "execution_count": null,
      "outputs": [
        {
          "output_type": "display_data",
          "data": {
            "text/plain": [
              "<Figure size 640x480 with 1 Axes>"
            ],
            "image/png": "[encoded data removed]"
          },
          "metadata": {}
        }
      ]
    },
    {
      "cell_type": "markdown",
      "source": [
        "A partir de la grafica de barras se puede observar que la mayoria de las observaciones realizadas caen dentro de la categoria de 50 a 59 centimetros con mas de 250000 observaciones y de la categoria de 40 a 49 centimetros con aproximadamente 250000.\n",
        "\n",
        "Luego se grafica el diagrama circular de la variable \"TALLA_NAC\" y se calculan los porcentajes"
      ],
      "metadata": {
        "id": "icpOhCCy1qnO"
      }
    },
    {
      "cell_type": "code",
      "source": [
        "plt.pie(y_values, labels = x_values, autopct='%1.1f%%')\n",
        "plt.title(\"Talla de un recien nacido en Colombia en 2023 (cm)\")\n",
        "plt.show()"
      ],
      "metadata": {
        "colab": {
          "base_uri": "https://localhost:8080/",
          "height": 428
        },
        "id": "a0fM1b_IJ-zL",
        "outputId": "e60cff3f-a019-415b-d3b2-1b9de0f08934"
      },
      "execution_count": null,
      "outputs": [
        {
          "output_type": "display_data",
          "data": {
            "text/plain": [
              "<Figure size 640x480 with 1 Axes>"
            ],
            "image/png": "[encoded data removed]"
          },
          "metadata": {}
        }
      ]
    },
    {
      "cell_type": "code",
      "source": [
        "porcentaje = [(x/len(df1.TALLA_NAC)*100) for x in y_values]\n",
        "print(y_values)\n",
        "print(porcentaje)"
      ],
      "metadata": {
        "colab": {
          "base_uri": "https://localhost:8080/"
        },
        "id": "Txk22WvXKGnx",
        "outputId": "d26300f3-9331-42e6-9bc3-bcea912d48b3"
      },
      "execution_count": null,
      "outputs": [
        {
          "output_type": "stream",
          "name": "stdout",
          "text": [
            "[266938, 235727, 5054, 306, 20, 4]\n",
            "[52.54178238713195, 46.39847731222776, 0.9947859360022361, 0.06023041084619791, 0.003936628159882216, 0.0007873256319764433]\n"
          ]
        }
      ]
    },
    {
      "cell_type": "markdown",
      "source": [
        "A partir del diagrama circular y de los calculos realizados se puede ver que aproximadamente el 52.5% de los recien nacidos, tuvieron una talla que cae dentro de la categoria de 50 a 59 centímetros, el 46.4% de 40 a 49 centímetros, el 1% de 30 a 39 centímetros, el 0.06% de 20 a 29 centímetros, el 0.004% de más de 59 centímetros y el 0.0008% de menos de 20 centímetros."
      ],
      "metadata": {
        "id": "iv229WsT1yaO"
      }
    },
    {
      "cell_type": "markdown",
      "source": [
        "A continuación se realizará una tabla de continegencia entre las variables aleatorias \"T_GES\" y \"TALLA_NAC\"."
      ],
      "metadata": {
        "id": "stTpt5g25N04"
      }
    },
    {
      "cell_type": "code",
      "source": [
        "tabla_cont = pd.crosstab(df1.T_GES, df1.TALLA_NAC)\n",
        "sns.set(style=\"whitegrid\")\n",
        "plt.figure(figsize=(6, 6))\n",
        "heatmap = sns.heatmap(tabla_cont, annot =True, fmt='d', cmap='YlGnBu', cbar=True)\n",
        "plt.show()"
      ],
      "metadata": {
        "colab": {
          "base_uri": "https://localhost:8080/",
          "height": 623
        },
        "id": "9OLmAuJXD3y5",
        "outputId": "aa3c6259-a9b4-429a-ee23-64ce9441c961"
      },
      "execution_count": null,
      "outputs": [
        {
          "output_type": "display_data",
          "data": {
            "text/plain": [
              "<Figure size 600x600 with 2 Axes>"
            ],
            "image/png": "[encoded data removed]"
          },
          "metadata": {}
        }
      ]
    },
    {
      "cell_type": "code",
      "source": [
        "230919/len(df1.T_GES) * 100\n",
        "140106/len(df1.T_GES) * 100\n",
        "35657/len(df1.T_GES) * 100\n",
        "95455/len(df1.T_GES == \"38-41\") * 100\n",
        "print(230919/371090 * 100)\n",
        "print(140106/371090 * 100)\n",
        "print(35657/134513 * 100)\n",
        "print(95455/134513 * 100)"
      ],
      "metadata": {
        "colab": {
          "base_uri": "https://localhost:8080/"
        },
        "id": "UOEgBijfYyWU",
        "outputId": "4db363db-9f8a-41a7-86f6-12515ef0a088"
      },
      "execution_count": null,
      "outputs": [
        {
          "output_type": "stream",
          "name": "stdout",
          "text": [
            "62.22722250666954\n",
            "37.755261526853324\n",
            "26.50821853649833\n",
            "70.96340130693687\n"
          ]
        }
      ]
    },
    {
      "cell_type": "markdown",
      "source": [
        "En particular se puede ver que la proporciones a destacar:\n",
        "\n",
        "\n",
        "*   Recién nacidos con tiempo gestacional de 38 a 41 semanas y talla de 50 a 59 centímetros: $45.5\\%$\n",
        "*   Recién nacidos con tiempo gestacional de 38 a 41 semanas y talla de 40 a 49 centímetros: $27.6\\%$\n",
        "*   Recién nacidos con tiempo gestacional de 28 a 37 semanas y talla de 50 a 59 centímetros: $7.0\\%$\n",
        "*   Recién nacidos con tiempo gestacional de 28 a 37 semanas y talla de 40 a 49 centímetros: $18.8\\%$\n",
        "\n",
        "Juntos en total conforman aproximadamente el $98.9\\%$ de los datos registrados.\n",
        "\n",
        "Ademas se puede ver las siguientes probabilidades:\n",
        "\n",
        "\n",
        "\n",
        "*   Probabilidad de una talla entre 50 y 59 centimetros si se sabe que el recién nacido tuvo un tiempo gestacional entre 38 a 41 semanas: $62.2\\%$\n",
        "*   Probabilidad de una talla entre 40 y 49 centimetros si se sabe que el recién nacido tuvo un tiempo gestacional entre 38 a 41 semanas: $37.8\\%$\n",
        "*   Probabilidad de una talla entre 50 y 59 centimetros si se sabe que el recién nacido tuvo un tiempo gestacional entre 28 a 37 semanas: $26.5\\%$\n",
        "*   Probabilidad de una talla entre 40 y 49 centimetros si se sabe que el recién nacido tuvo un tiempo gestacional entre 28 a 37 semanas: $71.0\\%$\n",
        "\n",
        "Estos resultados concuerdan con lo descrito por la Pontificia Universidad Católica de Chile [[6]](https://www7.uc.cl/sw_educ/enferm/ciclo/html/nacido/desarrollo.htm) y María Elena Columbus Checa y Walter Luis Andrade Mendoza en su artículo \"Percentiles peso, talla y perímetro cefálico en recién nacidos a término, obtenidos por parto y cesárea, en el hospital Materno Infantil del Guasmo\" en donde indican que para un recien nacido con un tiempo de gestación de 37 a 41 semanas se espera una talla entre 48 y 53 centimetros.\n",
        "\n",
        "Con el fin de determinar si las variables \"T_GES\" y \"TALLA_NAC\" están asociadas se aplica el coeficiente chi cuadrado."
      ],
      "metadata": {
        "id": "Smm-q31vKiBF"
      }
    },
    {
      "cell_type": "code",
      "source": [
        "res = stats.chi2_contingency(tabla_cont)\n",
        "chi, valor_p, _, _, = res\n",
        "print(f\"El valor de la estadistica Chi cuadrado es {chi} y el valor p es de {valor_p}\")"
      ],
      "metadata": {
        "id": "e8s3GXEBQpkm",
        "colab": {
          "base_uri": "https://localhost:8080/"
        },
        "outputId": "23f8cead-1e33-4828-9bdc-60dd1271799d"
      },
      "execution_count": null,
      "outputs": [
        {
          "output_type": "stream",
          "name": "stdout",
          "text": [
            "El valor de la estadistica Chi cuadrado es 283544.78878571023 y el valor p es de 0.0\n"
          ]
        }
      ]
    },
    {
      "cell_type": "markdown",
      "source": [
        "Como el valor $p = 0.0 < 0.05$ entonces no se rechaza la hipotesis nula con un $95\\%$ de confianza. Por lo tanto no se rechaza el que las variables \"T_GES\" y \"TALLA_NAC\" esten asociadas.\n",
        "\n",
        "A continuacion se calculan los coeficientes de: contingencia, phi y V de Cramer."
      ],
      "metadata": {
        "id": "xxuDkOOYTfMH"
      }
    },
    {
      "cell_type": "code",
      "source": [
        "coeficiente_contingencia = math.sqrt(chi/(chi + len(df1.T_GES)))\n",
        "coeficiente_phi = math.sqrt(chi/len(df1.T_GES))\n",
        "coeficiente_v_cramer = math.sqrt(chi/(len(df1.T_GES) * min(6-1, 5-1)))\n",
        "print(f\"Los coeficientes de contingencia, phi y v de Cramer están respectivamente dados por {coeficiente_contingencia}, {coeficiente_phi}, {coeficiente_v_cramer}\")"
      ],
      "metadata": {
        "id": "vrkPYlZze-a-",
        "colab": {
          "base_uri": "https://localhost:8080/"
        },
        "outputId": "3ecbb206-dcda-4e46-e6a7-5de4090ff420"
      },
      "execution_count": null,
      "outputs": [
        {
          "output_type": "stream",
          "name": "stdout",
          "text": [
            "Los coeficientes de contingencia, phi y v de Cramer están respectivamente dados por 0.5984937865548654, 0.7470643881626543, 0.37353219408132715\n"
          ]
        }
      ]
    },
    {
      "cell_type": "markdown",
      "source": [
        "Al calcular los coeficientes se obtiene que la talla de un recién nacido, al nacer y el tiempo de gestación están relacionados: moderadamente según el coeficiente de contingencia, significativamente según el coeficiente phi y discretamente según el coeficiente V de Cramer según la interpretacion dada por J. Richard Landis y Gary G. Koch en su artículo \"The Measurement of Observer Agreement for Categorical Data\" [[7]](https://www.jstor.org/stable/2529310). Con estos resultados se asemejan los resultados obtenidos por Guillermo Leyes, Alejandro German Lovecchio, María Belén Lovecchio, Ariane Soledad Ledesma y\n",
        "Dr. Gustavo A. Imbelloni en el articulo \"Relacion edad gestacional con peso, talla perimetro cefalico en nacidos vivos en la maternidad del hospital \"Dr. José R. Vidal\" de la ciudad de corrientes.\" en donde determinaron una correlación positiva entre la edad gestacional de un recién nacido y su talla [[8]](http://med.unne.edu.ar:8080/revistas/revista206/4_206.pdf)."
      ],
      "metadata": {
        "id": "JBL9geSjoRcy"
      }
    },
    {
      "cell_type": "markdown",
      "source": [
        "## Conclusiones\n",
        "\n",
        "Teniendo en cuenta la interpretación de los resultados obtenidos se puede concluír que la mayoría de los recién nacidos tienen un tiempo gestacional que dura entre 28 a 41 semanas. Con respecto a la talla de los recién nacidos se puede ver que la mayoría de los recién nacidos tienen una talla entre los 40 y los 59 centímetros. A partir de la tabla de contingencia se puede concluír que la mayoría de los recién nacidos tienen un tiempo gestacional que dura entre 28 a 41 semanas y una talla entre los 40 y los 59 centímetros lo cual concuerda con los datos reportados por otros trabajos.\n",
        "\n",
        "Por último se puede ver que el tiempo de gestación de un recién nacido y su talla estan correlacionados positivamente y su grado de correlación va desde lo discreto hasto lo fuerte dependiendo del coeficiente utilizado para medir su grado de correlación.  "
      ],
      "metadata": {
        "id": "Otthp7eQm2sw"
      }
    },
    {
      "cell_type": "markdown",
      "source": [
        "## Bibliografia\n",
        "\n",
        "[1] [Revisión. Principios y recomendaciones para un sistema de estadísticas vitales [Internet]. Disponible en: https://unstats.un.org/unsd/demographic-social/Standards-and-Methods/files/Principles_and_Recommendations/CRVS/M19Rev3-S.pdf](https://unstats.un.org/unsd/demographic-social/Standards-and-Methods/files/Principles_and_Recommendations/CRVS/M19Rev3-S.pdf)\n",
        "\n",
        "[2] [Della Fontana, Franco Darío; Contreras, Nelly Beatriz; Singh, Verónica Cristina; Goyechea, Julieta Soledad; Zimmer Sarmiento, Maria del Carmen; Talla materna como condicionante del peso y tamaño de nacimiento en recién nacidos de Salta Capital: 2002-2011; Universidad del País Vasco; Antropo; 46; 2; 12-2021; 9-17](https://ri.conicet.gov.ar/handle/11336/217328#ds-main)\n",
        "\n",
        "[3][Balest AL. Edad gestacional [Internet]. Manual MSD versión para profesionales. Manuales MSD; 2023 [citado el 5 de junio de 2025]. Disponible en: http://www.msdmanuals.com/es/professional/pediatría/problemas-perinatales/edad-gestacional](https://www.msdmanuals.com/es/professional/pediatría/problemas-perinatales/edad-gestacional)\n",
        "\n",
        "[4] [Departamento Administrativo Nacional de Estadística: www.dane.gov.co](https://microdatos.dane.gov.co/index.php/catalog/843/)\n",
        "\n",
        "[5] [Departamento Administrativo Nacional de Estadística: Estadísticas Vitales (EEVV) [Internet]. Available from: https://www.dane.gov.co/files/operaciones/EEVV/bol-EEVV-Nacimientos-IVtrim2023.pdf](https://www.dane.gov.co/files/operaciones/EEVV/bol-EEVV-Nacimientos-IVtrim2023.pdf)\n",
        "\n",
        "[6] [Características del desarrollo [Internet]. Www7.uc.cl. [citado el 5 de junio de 2025]. Disponible en: https://www7.uc.cl/sw_educ/enferm/ciclo/html/nacido/desarrollo.htm](https://www7.uc.cl/sw_educ/enferm/ciclo/html/nacido/desarrollo.htm)\n",
        "\n",
        "[7] [Richard LJ, Koch GG. The Measurement of Observer Agreement for Categorical Data. Biometrics. 1977 Mar;33(1):159–74.](https://www.jstor.org/stable/2529310)\n",
        "\n",
        "[8] [Leyes G, Lovecchio AG, Lovecchio MB, Ledesma AS. RELACION EDAD GESTACIONAL CON PESO, TALLA, PERIMETRO CEFALICO EN NACIDOS VIVOS EN LA MATERNIDAD DEL HOSPITAL “Dr. José R. Vidal” DE LA CIUDAD DE CORRIENTES [Internet]. Edu.ar:8080. [citado el 5 de junio de 2025]. Disponible en: http://med.unne.edu.ar:8080/revistas/revista206/4_206.pdf](http://med.unne.edu.ar:8080/revistas/revista206/4_206.pdf)\n"
      ],
      "metadata": {
        "id": "W7j2IZKpm7hA"
      }
    }
  ]
}